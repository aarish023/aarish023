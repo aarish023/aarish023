{
 "cells": [
  {
   "cell_type": "markdown",
   "id": "a11324c2",
   "metadata": {},
   "source": [
    "## A simple gui application to implement crud operations"
   ]
  },
  {
   "cell_type": "code",
   "execution_count": 2,
   "id": "f412d39a",
   "metadata": {},
   "outputs": [],
   "source": [
    "#Libraries\n",
    "\n",
    "from tkinter import *\n",
    "import sqlite3\n",
    "import tkinter.ttk as ttk\n",
    "import tkinter.messagebox as tkMessageBox"
   ]
  },
  {
   "cell_type": "code",
   "execution_count": 3,
   "id": "05de9c52",
   "metadata": {},
   "outputs": [
    {
     "data": {
      "text/plain": [
       "''"
      ]
     },
     "execution_count": 3,
     "metadata": {},
     "output_type": "execute_result"
    }
   ],
   "source": [
    "root = Tk()\n",
    "root.title('A Simple CRUD application')\n"
   ]
  },
  {
   "cell_type": "code",
   "execution_count": 4,
   "id": "547a4c73",
   "metadata": {},
   "outputs": [],
   "source": [
    "#Methods \n",
    "\n",
    "def Database():\n",
    "    global conn,cursor\n",
    "    conn = sqlite3.connect('class1.db')\n",
    "    cursor = conn.cursor()\n",
    "    cursor.execute(\"CREATE TABLE IF NOT EXISTS student1(mem_id INTEGER PRIMARY KEY AUTOINCREMENT NOT NULL firstname TEXT, lastname TEXT, gender TEXT, address TEXT, username TEXT, password TEXT)\")\n",
    "\n",
    "def Create():\n",
    "    if FIRSTNAME.get() == \"\" or LASTNAME.get() == \"\" or GENDER.get() == \"\" or ADDRESS.get()==\"\" or USERNAME.get()==\"\" or PASSWORD.get() == \"\":\n",
    "        txt_result.config(text=\"Please enter all the fields\",fg=\"red\")\n",
    "    else:\n",
    "        Database()\n",
    "        cursor.execute(\"INSERT INTO student1(firstname,lastname,gender,address,username,password) VALUES (?,?,?,?,?,?)\",(str(FIRSTNAME.get()),str(LASTNAME.get()),str(GENDER.get()),str(ADDRESS.get()),str(USERNAME.get()),str(PASSWORD.get())))\n",
    "                       \n",
    "        conn.commit()\n",
    "        FIRSTNAME.set(\"\")\n",
    "        LASTNAME.set(\"\")\n",
    "        GENDER.set(\"\")\n",
    "        ADDRESS.set(\"\")\n",
    "        USERNAME.set(\"\")\n",
    "        PASSWORD.set(\"\")\n",
    "        cursor.close()\n",
    "        conn.close()\n",
    "        txt_result.config(text = \"Record Inserted !\",fg = \"green\")\n",
    "\n",
    "def Read():\n",
    "    tree.delete(*tree.get_children())\n",
    "    Database()\n",
    "    cursor.execute(\"SELECT * FROM student1 ORDER BY lastname ASC\")\n",
    "    fetch = cursor.fetchall()\n",
    "    for data in fetch:\n",
    "        tree.insert('','end',values =(data[1],data[2],data[3],data[4],data[5],data[6]))\n",
    "    cursor.close()\n",
    "    txt_result.config(text = \"Successfully fetched data!\",fg = \"black\")\n",
    "    \n",
    "def Exit():\n",
    "    result = tkMessageBox.askquestion('Do you want to exit?(Y/N)',icon='warning')\n",
    "    if result == 'yes':\n",
    "        root.destroy()\n",
    "        exit()\n",
    "        \n",
    "        "
   ]
  },
  {
   "cell_type": "code",
   "execution_count": 5,
   "id": "c18aca20",
   "metadata": {},
   "outputs": [],
   "source": [
    "#variable declaration\n",
    "\n",
    "FIRSTNAME= StringVar()\n",
    "LASTNAME= StringVar()\n",
    "GENDER= StringVar()\n",
    "ADDRESS= StringVar()\n",
    "USERNAME= StringVar()\n",
    "PASSWORD= StringVar()\n"
   ]
  },
  {
   "cell_type": "code",
   "execution_count": 6,
   "id": "f7f8ee80",
   "metadata": {},
   "outputs": [
    {
     "ename": "",
     "evalue": "",
     "output_type": "error",
     "traceback": [
      "\u001b[1;31mThe Kernel crashed while executing code in the the current cell or a previous cell. Please review the code in the cell(s) to identify a possible cause of the failure. Click <a href='https://aka.ms/vscodeJupyterKernelCrash'>here</a> for more info. View Jupyter <a href='command:jupyter.viewOutput'>log</a> for further details."
     ]
    }
   ],
   "source": [
    "#FRAME\n",
    "\n",
    "Top = Frame(root,width=900,height=50,bd=8,relief='raise')\n",
    "Top.pack(side=TOP)\n",
    "Left = Frame(root,width=300,height=500,bd=8,relief='raise')\n",
    "Left.pack(side=LEFT)\n",
    "Right = Frame(root,width=600,height=500,bd=8,relief='raise')\n",
    "Right.pack(side=RIGHT)\n",
    "\n",
    "Forms = Frame(Left,width=500,height=450)\n",
    "Forms.pack(side=TOP)\n",
    "\n",
    "Buttons = Frame(Left,width=300,height=100,bd=8,relief='raise')\n",
    "Buttons.pack(side=BOTTOM)\n",
    "\n",
    "RadioGroup = Frame(Forms)\n",
    "Male = Radiobutton(RadioGroup,text='Male',variable=GENDER,value='Male').pack(side=LEFT)\n",
    "Female = Radiobutton(RadioGroup,text='Female',variable=GENDER,value='Female').pack(side=LEFT)\n",
    "\n",
    "#--------------------------------------LABEL WIDGET--------------------------------------------------------------\n",
    "\n",
    "txt_title = Label(Top,width=900,font=('arial',24), text=\"PYTHON:SIMPLE CRUD APPLICATION\")\n",
    "txt_title.pack()\n",
    "txt_firstname=Label(Forms,text=\"Firstname:\", font=('arial',18),bd=15)\n",
    "txt_firstname.grid(row=0,stick=\"e\")\n",
    "txt_lastname=Label(Forms,text=\"Lastname:\", font=('arial',18),bd=15)\n",
    "txt_lastname.grid(row=1,stick=\"e\")\n",
    "txt_gender=Label(Forms,text=\"Gender:\", font=('arial',18),bd=15)\n",
    "txt_gender.grid(row=2,stick=\"e\")\n",
    "txt_address=Label(Forms,text=\"Address:\", font=('arial',18),bd=15)\n",
    "txt_address.grid(row=3,stick=\"e\")\n",
    "txt_username=Label(Forms,text=\"Username:\", font=('arial',18),bd=15)\n",
    "txt_username.grid(row=4,stick=\"e\")\n",
    "txt_password=Label(Forms,text=\"Password:\", font=('arial',18),bd=15)\n",
    "txt_password.grid(row=5,stick=\"e\")\n",
    "txt_result=Label(Buttons)\n",
    "txt_result.pack(side=TOP)\n",
    "\n",
    "#----------------------------Entry Widget-------------------------------------------------------------\n",
    "\n",
    "firstname=Entry(Forms,textvariable=FIRSTNAME, width=30)\n",
    "firstname.grid(row=0,column=1)\n",
    "lastname=Entry(Forms,textvariable=LASTNAME, width=30)\n",
    "lastname.grid(row=1,column=1)\n",
    "RadioGroup.grid(row=2,column=1)\n",
    "address=Entry(Forms,textvariable=ADDRESS, width=30)\n",
    "address.grid(row=3,column=1)\n",
    "username=Entry(Forms,textvariable=USERNAME, width=30)\n",
    "username.grid(row=4,column=1)\n",
    "password=Entry(Forms,textvariable=PASSWORD,show ='*', width=30)\n",
    "password.grid(row=5,column=1)\n",
    "\n",
    "#--------------------------------------BUTTON WIDGET---------------------------------------------------------------------\n",
    "\n",
    "btn_create=Button(Buttons,width=10,text=\"Create\",command=Create)\n",
    "btn_create.pack(side=LEFT)\n",
    "btn_read=Button(Buttons,width=10,text=\"Read\",command=Read)\n",
    "btn_read.pack(side=LEFT)\n",
    "btn_update=Button(Buttons,width=10,text=\"Update\",state=DISABLED)\n",
    "btn_update.pack(side=LEFT)\n",
    "btn_delete=Button(Buttons,width=10,text=\"Delete\",state=DISABLED)\n",
    "btn_delete.pack(side=LEFT)\n",
    "btn_exit=Button(Buttons,width=10,text=\"Exit\",command=Exit)\n",
    "btn_exit.pack(side=LEFT)\n",
    "\n",
    "#-------------------------------------------LIST WIDGET--------------------------------------------------------------------\n",
    "\n",
    "scrollbary= Scrollbar(Right, orient=VERTICAL)\n",
    "scrollbarx=Scrollbar(Right, orient=HORIZONTAL)\n",
    "\n",
    "tree = ttk.Treeview(Right)\n",
    "tree[\"columns\"]=(\"Firstname\",\"Lastname\",\"Gender\",\"Address\",\"Username\",\"Password\")\n",
    "\n",
    "scrollbary.config(command=tree.yview)\n",
    "scrollbary.pack(side=RIGHT, fill=Y)\n",
    "scrollbarx.config(command=tree.xview)\n",
    "scrollbarx.pack(side=BOTTOM, fill=X)\n",
    "tree.heading('Firstname', text=\"Firstname\", anchor=W)\n",
    "tree.heading('Lastname', text=\"Lastname\", anchor=W)\n",
    "tree.heading('Gender', text=\"Gender\", anchor=W)\n",
    "tree.heading('Address', text=\"Address\", anchor=W)\n",
    "tree.heading('Username', text=\"Username\", anchor=W)\n",
    "tree.heading('Password', text=\"Password\", anchor=W)\n",
    "tree.column('#0',stretch=NO,minwidth=0,width=0)\n",
    "tree.column('#1',stretch=NO,minwidth=0,width=80)\n",
    "tree.column('#2',stretch=NO,minwidth=0,width=120)\n",
    "tree.column('#3',stretch=NO,minwidth=0,width=150)\n",
    "tree.column('#4',stretch=NO,minwidth=0,width=150)\n",
    "tree.column('#5',stretch=NO,minwidth=0,width=150)\n",
    "tree.column('#6',stretch=NO,minwidth=0,width=150)\n",
    "tree.pack()\n",
    "\n",
    "\n",
    "#---------------------------------------------Initialization--------------------------------------------------------------\n",
    "if __name__=='__main__':\n",
    "    root.mainloop()\n",
    "    "
   ]
  }
 ],
 "metadata": {
  "interpreter": {
   "hash": "0d477dcdb1b048f0bce3ea610a04c6f92aca7b97caab0f8884d20c67bc172eb9"
  },
  "kernelspec": {
   "display_name": "Python 3.9.7 ('base')",
   "language": "python",
   "name": "python3"
  },
  "language_info": {
   "codemirror_mode": {
    "name": "ipython",
    "version": 3
   },
   "file_extension": ".py",
   "mimetype": "text/x-python",
   "name": "python",
   "nbconvert_exporter": "python",
   "pygments_lexer": "ipython3",
   "version": "3.9.7"
  }
 },
 "nbformat": 4,
 "nbformat_minor": 5
}
